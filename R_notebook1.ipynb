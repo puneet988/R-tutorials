{
 "cells": [
  {
   "cell_type": "markdown",
   "metadata": {},
   "source": [
    "# Introduction to R\n",
    "\n",
    "Puneet Sharma [puneet.988@gmail.com](puneet.988@gmail.com)\n",
    " \n",
    "All the lectures of R using [Jupyter notebook](https://www.jupyter.org) are available at [https://github.com/puneet988/R-tutorials](https://github.com/puneet988/R-tutorials)\n",
    "\n",
    "Please execute the cell containing the code using Shift+Enter to see the result.\n"
   ]
  },
  {
   "cell_type": "markdown",
   "metadata": {},
   "source": [
    "## R data types"
   ]
  },
  {
   "cell_type": "markdown",
   "metadata": {},
   "source": [
    "Just like python and MATLAB, R is a dynamic language developed largely for statistical computing."
   ]
  },
  {
   "cell_type": "markdown",
   "metadata": {},
   "source": [
    "There is no need to define the ```type``` of variable. Data type is automatically assigned."
   ]
  },
  {
   "cell_type": "code",
   "execution_count": null,
   "metadata": {},
   "outputs": [],
   "source": [
    "a <- 4.2; b <- 'Hello!'"
   ]
  },
  {
   "cell_type": "code",
   "execution_count": null,
   "metadata": {},
   "outputs": [],
   "source": [
    "print(a); print(b)"
   ]
  },
  {
   "cell_type": "markdown",
   "metadata": {},
   "source": [
    "To print the type of variable, use typeof"
   ]
  },
  {
   "cell_type": "code",
   "execution_count": null,
   "metadata": {},
   "outputs": [],
   "source": [
    "print(typeof(a)); print(typeof(b))"
   ]
  },
  {
   "cell_type": "markdown",
   "metadata": {},
   "source": [
    "Basic datatypes are\n",
    "\n",
    "* String/Character\n",
    "* Number\n",
    "  - Double\n",
    "  - Complex\n",
    "* Boolean/Logical\n",
    "\n",
    "A number whether integer or float is always represented as double."
   ]
  },
  {
   "cell_type": "code",
   "execution_count": null,
   "metadata": {},
   "outputs": [],
   "source": [
    "a <- 20; typeof(a)"
   ]
  },
  {
   "cell_type": "markdown",
   "metadata": {},
   "source": [
    "For explicit requirement of integer, add suffix L"
   ]
  },
  {
   "cell_type": "code",
   "execution_count": null,
   "metadata": {},
   "outputs": [],
   "source": [
    "b <- 20L; typeof(b)"
   ]
  },
  {
   "cell_type": "markdown",
   "metadata": {},
   "source": [
    "## Handling undefined values\n",
    "\n",
    "Undefined values are basically represented using\n",
    "* NULL\n",
    "* NA\n",
    "* NaN\n",
    "\n",
    "All of three work differently\n",
    "\n",
    "NULL which is a null object is used when there is no value present. If there is some value present in the vector or matrix and the value is not usable (fill_value), we use NA or NaN.\n",
    "\n",
    "NA or NaN are missing value indicator."
   ]
  },
  {
   "cell_type": "code",
   "execution_count": null,
   "metadata": {},
   "outputs": [],
   "source": [
    "print(class(NULL)); print(class(NA)); print(class(NaN))"
   ]
  },
  {
   "cell_type": "markdown",
   "metadata": {},
   "source": [
    "NA comes when there is no TRUE or FALSE i.e. logical indeterminacy. It can also come for missing\n",
    "value.\n",
    "\n",
    "NaN means 0/0"
   ]
  },
  {
   "cell_type": "markdown",
   "metadata": {},
   "source": [
    "Mathematical operations are just like in python\n",
    "\n",
    "* \\* &nbsp; &nbsp; &nbsp; &nbsp; &nbsp; Multiplication\n",
    "* / &nbsp; &nbsp; &nbsp; &nbsp; &nbsp; Division\n",
    "* \\+ &nbsp; &nbsp; &nbsp; &nbsp; &nbsp; Addition\n",
    "* \\- &nbsp; &nbsp; &nbsp; &nbsp; &nbsp; Subtraction\n",
    "* ^ &nbsp; &nbsp; &nbsp; &nbsp; &nbsp; Exponent\n",
    "* %% &nbsp; &nbsp; &nbsp; Modulus\n",
    "* %/% &nbsp; &nbsp; Integer division\n",
    "\n",
    "Relational operators are same as in python \n",
    "\n",
    "Logical operators are as follows\n",
    "\n",
    "* !     &nbsp; &nbsp; &nbsp; &nbsp; &nbsp; &nbsp; NOT\n",
    "* &     &nbsp; &nbsp; &nbsp; &nbsp; &nbsp; Element wise AND\n",
    "* &&    &nbsp; &nbsp; &nbsp; &nbsp; AND\n",
    "* |     &nbsp; &nbsp; &nbsp; &nbsp; &nbsp; &nbsp; Element wise OR\n",
    "* ||    &nbsp; &nbsp; &nbsp; &nbsp; &nbsp; &nbsp; OR\n",
    "* %in% &nbsp; &nbsp; in the set "
   ]
  },
  {
   "cell_type": "markdown",
   "metadata": {},
   "source": [
    "## Data structures\n",
    "\n",
    "In R there are 6 types of data structures\n",
    "\n",
    "* Vectors\n",
    "* Lists\n",
    "* Matrices\n",
    "* Arrays\n",
    "* Factors\n",
    "* Data Frames"
   ]
  },
  {
   "cell_type": "markdown",
   "metadata": {},
   "source": [
    "### Vectors"
   ]
  },
  {
   "cell_type": "markdown",
   "metadata": {},
   "source": [
    "To create a vector, we use ```c()``` function. It basically concatenates things together like a list in python."
   ]
  },
  {
   "cell_type": "code",
   "execution_count": null,
   "metadata": {},
   "outputs": [],
   "source": [
    "x <- c(1, 2, 3, 4.3, 'hello', TRUE, FALSE); print(x)"
   ]
  },
  {
   "cell_type": "markdown",
   "metadata": {},
   "source": [
    "As we can see, a vector can have any data type value be it number, character or boolean. But we notice something. All the elements in the vector are coerced to character type because the vector contains string ```\"hello\"```. This is the effect of implicit coercion. "
   ]
  },
  {
   "cell_type": "markdown",
   "metadata": {},
   "source": [
    "For strictly making a numeric vector, use ```vector()``` function"
   ]
  },
  {
   "cell_type": "code",
   "execution_count": null,
   "metadata": {},
   "outputs": [],
   "source": [
    "x <- vector(\"numeric\", length=20); print(x)"
   ]
  },
  {
   "cell_type": "markdown",
   "metadata": {},
   "source": [
    "We can use such a vector to preallocate a vector which can be used for appending values from a for loop which is faster than appending values to an empty vector since every time a value is appended in an empty vector, R makes a copy of it thus slowing the whole process."
   ]
  },
  {
   "cell_type": "markdown",
   "metadata": {},
   "source": [
    "**Coercion** - Objects like vectors, data frames etc. can be coerced to different classses using as.class function"
   ]
  },
  {
   "cell_type": "code",
   "execution_count": null,
   "metadata": {},
   "outputs": [],
   "source": [
    "x <- c(1,2,3,4); class(x)"
   ]
  },
  {
   "cell_type": "code",
   "execution_count": null,
   "metadata": {},
   "outputs": [],
   "source": [
    "y <- as.character(x); class(y)"
   ]
  },
  {
   "cell_type": "code",
   "execution_count": null,
   "metadata": {},
   "outputs": [],
   "source": [
    "y <- as.logical(x); class(y)"
   ]
  },
  {
   "cell_type": "markdown",
   "metadata": {},
   "source": [
    "### Matrices"
   ]
  },
  {
   "cell_type": "markdown",
   "metadata": {},
   "source": [
    "Matrix is same as a vector except it has an additional attribute of dimension. It is a two dimensional data structure."
   ]
  },
  {
   "cell_type": "code",
   "execution_count": null,
   "metadata": {},
   "outputs": [],
   "source": [
    "a <- matrix(c(6,2,6,8,3,2,6,8,0), nrow=3, ncol=3); print(a); attributes(a)"
   ]
  },
  {
   "cell_type": "markdown",
   "metadata": {},
   "source": [
    "Matrices start filling row wise. Whereas in python, a matrix starts filling columnwise."
   ]
  },
  {
   "cell_type": "markdown",
   "metadata": {},
   "source": [
    "In R, we can pass the names of rows and columns."
   ]
  },
  {
   "cell_type": "code",
   "execution_count": null,
   "metadata": {},
   "outputs": [],
   "source": [
    "a <- matrix(c(6,2,6,8,3,2,6,8,0), nrow=3, ncol=3, \n",
    "            dimnames = list(c('a','b','c'), c('x','y','z'))); print(a)"
   ]
  },
  {
   "cell_type": "code",
   "execution_count": null,
   "metadata": {},
   "outputs": [],
   "source": [
    "print(colnames(a)); print(rownames(a))"
   ]
  },
  {
   "cell_type": "markdown",
   "metadata": {},
   "source": [
    "To access the elements of a matrix, use square brackets."
   ]
  },
  {
   "cell_type": "code",
   "execution_count": null,
   "metadata": {},
   "outputs": [],
   "source": [
    "print(a)"
   ]
  },
  {
   "cell_type": "code",
   "execution_count": null,
   "metadata": {},
   "outputs": [],
   "source": [
    "print(a[2,2]); print(a[c(2,3),c(1,2)]) # select 2 row and 2 column element. \n",
    "                                       # select rows 2 & 3 and columns 1 and 2 "
   ]
  },
  {
   "cell_type": "code",
   "execution_count": null,
   "metadata": {},
   "outputs": [],
   "source": [
    "print(a[2,]); print(a[,2]) # select 2 row\n",
    "                           # select 2 column"
   ]
  },
  {
   "cell_type": "markdown",
   "metadata": {},
   "source": [
    "But ```a[2,] or a[,2]``` gives a vector. To avoid this or to get a matrix, use drop = FALSE."
   ]
  },
  {
   "cell_type": "code",
   "execution_count": null,
   "metadata": {},
   "outputs": [],
   "source": [
    "print(a[2,]); dim(a[2,])"
   ]
  },
  {
   "cell_type": "code",
   "execution_count": null,
   "metadata": {},
   "outputs": [],
   "source": [
    "print(a[2,,drop = FALSE]); dim(a[2,,drop = FALSE])"
   ]
  },
  {
   "cell_type": "markdown",
   "metadata": {},
   "source": [
    "Specific indexing can also be done."
   ]
  },
  {
   "cell_type": "code",
   "execution_count": null,
   "metadata": {},
   "outputs": [],
   "source": [
    "a[c(1,2,4,6)]"
   ]
  },
  {
   "cell_type": "markdown",
   "metadata": {},
   "source": [
    "You can also do indexing using logical vectors."
   ]
  },
  {
   "cell_type": "code",
   "execution_count": null,
   "metadata": {},
   "outputs": [],
   "source": [
    "print(a[c(TRUE,FALSE,TRUE),c(TRUE,TRUE,FALSE)])"
   ]
  },
  {
   "cell_type": "markdown",
   "metadata": {},
   "source": [
    "To transpose a matrix use ```t(a)```"
   ]
  },
  {
   "cell_type": "markdown",
   "metadata": {},
   "source": [
    "To combine vectors or matrices, use rbind or cbind."
   ]
  },
  {
   "cell_type": "markdown",
   "metadata": {},
   "source": [
    "Dimension of matrix can also be changed (reshape)"
   ]
  },
  {
   "cell_type": "code",
   "execution_count": null,
   "metadata": {},
   "outputs": [],
   "source": [
    "dim(a) <- c(1,9); print(a)"
   ]
  },
  {
   "cell_type": "markdown",
   "metadata": {},
   "source": [
    "### Lists"
   ]
  },
  {
   "cell_type": "markdown",
   "metadata": {},
   "source": [
    "List in R can hold elements of different types. There is no coercion. A list can contain numeric, characters, boolean, matrices, vectors, arrays, lists etc. "
   ]
  },
  {
   "cell_type": "markdown",
   "metadata": {},
   "source": [
    "To create list use ```list()``` argument."
   ]
  },
  {
   "cell_type": "code",
   "execution_count": null,
   "metadata": {},
   "outputs": [],
   "source": [
    "list_data <- list('green','yellow',1,2,3,c(4,5,6)); print(list_data)"
   ]
  },
  {
   "cell_type": "markdown",
   "metadata": {},
   "source": [
    "To give names to each element in the list, use ```names()``` argument."
   ]
  },
  {
   "cell_type": "code",
   "execution_count": null,
   "metadata": {},
   "outputs": [],
   "source": [
    "names(list_data) <- c(\"A\",\"B\",\"C\",\"D\",\"E\",\"F\"); print(list_data)"
   ]
  },
  {
   "cell_type": "code",
   "execution_count": null,
   "metadata": {},
   "outputs": [],
   "source": [
    "print(list_data$A); print(list_data$B)  ### Access first and second value of list"
   ]
  },
  {
   "cell_type": "code",
   "execution_count": null,
   "metadata": {},
   "outputs": [],
   "source": [
    "print(list_data[1]); print(list_data[[1]]) \n",
    "### Access first label + first value and access first value "
   ]
  },
  {
   "cell_type": "markdown",
   "metadata": {},
   "source": [
    "To merge two or more lists, use ```c()```"
   ]
  },
  {
   "cell_type": "code",
   "execution_count": null,
   "metadata": {},
   "outputs": [],
   "source": [
    "a <- list(1,2,3,4); b <- list(5,6,7,8); c <- c(a,b); print(c)"
   ]
  },
  {
   "cell_type": "markdown",
   "metadata": {},
   "source": [
    "Some predefined lists in R"
   ]
  },
  {
   "cell_type": "code",
   "execution_count": null,
   "metadata": {},
   "outputs": [],
   "source": [
    "print(letters); print(LETTERS); print(month.abb); print(month.name)"
   ]
  },
  {
   "cell_type": "markdown",
   "metadata": {},
   "source": [
    "Arrays, Factors and Dataframes will be covered in next notebook."
   ]
  }
 ],
 "metadata": {
  "kernelspec": {
   "display_name": "R [conda env:cdat8]",
   "language": "R",
   "name": "conda-env-cdat8-r"
  },
  "language_info": {
   "codemirror_mode": "r",
   "file_extension": ".r",
   "mimetype": "text/x-r-source",
   "name": "R",
   "pygments_lexer": "r",
   "version": "3.4.1"
  }
 },
 "nbformat": 4,
 "nbformat_minor": 2
}
